{
  "cells": [
    {
      "cell_type": "code",
      "execution_count": null,
      "metadata": {
        "id": "J6Pd9SFJ1yVi",
        "outputId": "4d24c7bf-5d3e-4f7d-9973-c674193287ee",
        "colab": {
          "base_uri": "https://localhost:8080/"
        }
      },
      "outputs": [
        {
          "output_type": "stream",
          "name": "stdout",
          "text": [
            "\u001b[2K     \u001b[90m━━━━━━━━━━━━━━━━━━━━━━━━━━━━━━━━━━━━━━━━\u001b[0m \u001b[32m163.1/163.1 kB\u001b[0m \u001b[31m1.3 MB/s\u001b[0m eta \u001b[36m0:00:00\u001b[0m\n",
            "\u001b[2K     \u001b[90m━━━━━━━━━━━━━━━━━━━━━━━━━━━━━━━━━━━━━━━━\u001b[0m \u001b[32m717.3/717.3 kB\u001b[0m \u001b[31m8.3 MB/s\u001b[0m eta \u001b[36m0:00:00\u001b[0m\n",
            "\u001b[?25h"
          ]
        }
      ],
      "source": [
        "!pip install -q -U google-generativeai"
      ]
    },
    {
      "cell_type": "code",
      "execution_count": null,
      "metadata": {
        "id": "HTiaTu6O1LRC"
      },
      "outputs": [],
      "source": [
        "# Import the Python SDK\n",
        "import google.generativeai as genai\n",
        "# Used to securely store your API key\n",
        "from google.colab import userdata\n",
        "\n",
        "GOOGLE_API_KEY=userdata.get('GOOGLE_API_KEY')\n",
        "genai.configure(api_key=GOOGLE_API_KEY)"
      ]
    },
    {
      "cell_type": "code",
      "source": [
        "from google.generativeai import caching\n",
        "import datetime\n",
        "import time"
      ],
      "metadata": {
        "id": "o4dMWYim2dzU"
      },
      "execution_count": null,
      "outputs": []
    },
    {
      "cell_type": "code",
      "source": [
        "!wget https://storage.googleapis.com/generativeai-downloads/data/Sherlock_Jr_FullMovie.mp4"
      ],
      "metadata": {
        "id": "ahsQWrXR4EtC",
        "outputId": "b8e7852d-360f-49d8-ba34-fa69ad1ab7f4",
        "colab": {
          "base_uri": "https://localhost:8080/"
        }
      },
      "execution_count": null,
      "outputs": [
        {
          "output_type": "stream",
          "name": "stdout",
          "text": [
            "--2024-06-19 05:03:16--  https://storage.googleapis.com/generativeai-downloads/data/Sherlock_Jr_FullMovie.mp4\n",
            "Resolving storage.googleapis.com (storage.googleapis.com)... 74.125.69.207, 64.233.181.207, 173.194.193.207, ...\n",
            "Connecting to storage.googleapis.com (storage.googleapis.com)|74.125.69.207|:443... connected.\n",
            "HTTP request sent, awaiting response... 200 OK\n",
            "Length: 331623233 (316M) [video/mp4]\n",
            "Saving to: ‘Sherlock_Jr_FullMovie.mp4’\n",
            "\n",
            "Sherlock_Jr_FullMov 100%[===================>] 316.26M   164MB/s    in 1.9s    \n",
            "\n",
            "2024-06-19 05:03:18 (164 MB/s) - ‘Sherlock_Jr_FullMovie.mp4’ saved [331623233/331623233]\n",
            "\n"
          ]
        }
      ]
    },
    {
      "cell_type": "markdown",
      "source": [
        "#video file"
      ],
      "metadata": {
        "id": "Tl66pHsW7czj"
      }
    },
    {
      "cell_type": "code",
      "source": [
        "video_file_name = \"Sherlock_Jr_FullMovie.mp4\""
      ],
      "metadata": {
        "id": "7Q-EVobJ4NMh"
      },
      "execution_count": null,
      "outputs": []
    },
    {
      "cell_type": "code",
      "source": [
        "video_file = genai.upload_file(path=video_file_name)"
      ],
      "metadata": {
        "id": "lZ4-Rusd4Rqj"
      },
      "execution_count": null,
      "outputs": []
    },
    {
      "cell_type": "code",
      "source": [
        "while video_file.state.name == \"PROCESSING\":\n",
        "    print('Waiting for video to be processed.')\n",
        "    time.sleep(2)\n",
        "    video_file = genai.get_file(video_file.name)\n",
        "\n",
        "print(f'Video processing complete: ' + video_file.uri)"
      ],
      "metadata": {
        "id": "GGxdCtAY4Tw_",
        "outputId": "86658a7a-90a8-46a4-f0d3-b4471a448b16",
        "colab": {
          "base_uri": "https://localhost:8080/",
          "height": 242
        }
      },
      "execution_count": null,
      "outputs": [
        {
          "output_type": "stream",
          "name": "stdout",
          "text": [
            "Waiting for video to be processed.\n",
            "Waiting for video to be processed.\n",
            "Waiting for video to be processed.\n",
            "Waiting for video to be processed.\n",
            "Waiting for video to be processed.\n",
            "Waiting for video to be processed.\n",
            "Waiting for video to be processed.\n",
            "Waiting for video to be processed.\n",
            "Waiting for video to be processed.\n",
            "Waiting for video to be processed.\n",
            "Waiting for video to be processed.\n",
            "Waiting for video to be processed.\n",
            "Video processing complete: https://generativelanguage.googleapis.com/v1beta/files/f8mm5vd92tc5\n"
          ]
        }
      ]
    },
    {
      "cell_type": "code",
      "source": [
        "cache = caching.CachedContent.create(\n",
        "    model=\"models/gemini-1.5-flash-001\",\n",
        "    display_name=\"sherlock jr movie\", # used to identify the cache\n",
        "    system_instruction=\"You are an expert video analyzer, and your job is to answer user's query based on the video file you have access to.\",\n",
        "    contents=[video_file],\n",
        "    ttl=datetime.timedelta(minutes=5),\n",
        ")"
      ],
      "metadata": {
        "id": "Fw5tpwLC4buK"
      },
      "execution_count": null,
      "outputs": []
    },
    {
      "cell_type": "code",
      "source": [
        "model = genai.GenerativeModel.from_cached_content(cached_content=cache)"
      ],
      "metadata": {
        "id": "F1dP7Ke74hN1"
      },
      "execution_count": null,
      "outputs": []
    },
    {
      "cell_type": "code",
      "source": [
        "response = model.generate_content([\"Introduce different characters in the movie by describing their personality, looks, and names. Also list the timestamps they were introduced for the first time.\"])\n",
        "\n",
        "print(response.usage_metadata)"
      ],
      "metadata": {
        "id": "VyyvzvcL4kN2",
        "outputId": "0ae55382-78a0-4378-9af9-2d8e48c1760f",
        "colab": {
          "base_uri": "https://localhost:8080/",
          "height": 104
        }
      },
      "execution_count": null,
      "outputs": [
        {
          "output_type": "stream",
          "name": "stdout",
          "text": [
            "prompt_token_count: 696218\n",
            "candidates_token_count: 383\n",
            "total_token_count: 412\n",
            "cached_content_token_count: 696189\n",
            "\n"
          ]
        }
      ]
    },
    {
      "cell_type": "code",
      "source": [
        "response"
      ],
      "metadata": {
        "id": "cI3qI76T4qkO",
        "outputId": "2f453456-067d-48b6-a82d-197fd4adde39",
        "colab": {
          "base_uri": "https://localhost:8080/"
        }
      },
      "execution_count": null,
      "outputs": [
        {
          "output_type": "execute_result",
          "data": {
            "text/plain": [
              "response:\n",
              "GenerateContentResponse(\n",
              "    done=True,\n",
              "    iterator=None,\n",
              "    result=protos.GenerateContentResponse({\n",
              "      \"candidates\": [\n",
              "        {\n",
              "          \"content\": {\n",
              "            \"parts\": [\n",
              "              {\n",
              "                \"text\": \"Here is a breakdown of the characters you asked about, including their names, looks, and personalities, along with the timestamps of their first appearance in the video.\\n\\n- **Buster Keaton:**  Buster is a young man who is trying to be a detective while working as a projectionist. He is very serious and determined to be a good detective, but he often gets himself into ridiculous situations because he is so inexperienced. He is clean-cut, with short hair and a small mustache. Buster is portrayed by Buster Keaton. \\n * Timestamp: 0:01\\n\\n- **The theater manager:** The theater manager is a gruff and impatient man who is constantly annoyed by Buster's antics. He is a short, stout man with a thick mustache and glasses. He wears a suit and bowtie.\\n * Timestamp: 1:49\\n\\n- **The girl:** The girl is a young woman who is very beautiful and charming. She is often the object of Buster's affections, but she is also a bit naive and easily scared. She is a young woman with short curly hair and a kind face. She wears a light dress, with a white collar and a light apron.\\n * Timestamp: 2:12\\n\\n- **The girl's father:** The girl's father is a wealthy man who is very protective of his daughter. He is a tall, thin man with a white beard and mustache. He wears a flannel shirt, a vest, and suspenders.\\n * Timestamp: 2:26\\n\\n- **The local sheik:** The local sheik is a rich and flamboyant man who is trying to woo the girl. He is a tall, handsome man with a mustache and a bowtie. He wears a suit.\\n * Timestamp: 3:45\\n\\nHope this helps! Let me know if you have more questions. \\n\"\n",
              "              }\n",
              "            ],\n",
              "            \"role\": \"model\"\n",
              "          },\n",
              "          \"finish_reason\": \"STOP\",\n",
              "          \"index\": 0,\n",
              "          \"safety_ratings\": [\n",
              "            {\n",
              "              \"category\": \"HARM_CATEGORY_SEXUALLY_EXPLICIT\",\n",
              "              \"probability\": \"NEGLIGIBLE\"\n",
              "            },\n",
              "            {\n",
              "              \"category\": \"HARM_CATEGORY_HATE_SPEECH\",\n",
              "              \"probability\": \"NEGLIGIBLE\"\n",
              "            },\n",
              "            {\n",
              "              \"category\": \"HARM_CATEGORY_HARASSMENT\",\n",
              "              \"probability\": \"NEGLIGIBLE\"\n",
              "            },\n",
              "            {\n",
              "              \"category\": \"HARM_CATEGORY_DANGEROUS_CONTENT\",\n",
              "              \"probability\": \"NEGLIGIBLE\"\n",
              "            }\n",
              "          ]\n",
              "        }\n",
              "      ],\n",
              "      \"usage_metadata\": {\n",
              "        \"prompt_token_count\": 696218,\n",
              "        \"candidates_token_count\": 383,\n",
              "        \"total_token_count\": 412,\n",
              "        \"cached_content_token_count\": 696189\n",
              "      }\n",
              "    }),\n",
              ")"
            ]
          },
          "metadata": {},
          "execution_count": 12
        }
      ]
    },
    {
      "cell_type": "code",
      "source": [
        "response.text"
      ],
      "metadata": {
        "id": "jNseVnHa5Y_1",
        "outputId": "7897e98d-953b-4d34-80ad-37e238c72f39",
        "colab": {
          "base_uri": "https://localhost:8080/",
          "height": 87
        }
      },
      "execution_count": null,
      "outputs": [
        {
          "output_type": "execute_result",
          "data": {
            "text/plain": [
              "\"Here is a breakdown of the characters you asked about, including their names, looks, and personalities, along with the timestamps of their first appearance in the video.\\n\\n- **Buster Keaton:**  Buster is a young man who is trying to be a detective while working as a projectionist. He is very serious and determined to be a good detective, but he often gets himself into ridiculous situations because he is so inexperienced. He is clean-cut, with short hair and a small mustache. Buster is portrayed by Buster Keaton. \\n * Timestamp: 0:01\\n\\n- **The theater manager:** The theater manager is a gruff and impatient man who is constantly annoyed by Buster's antics. He is a short, stout man with a thick mustache and glasses. He wears a suit and bowtie.\\n * Timestamp: 1:49\\n\\n- **The girl:** The girl is a young woman who is very beautiful and charming. She is often the object of Buster's affections, but she is also a bit naive and easily scared. She is a young woman with short curly hair and a kind face. She wears a light dress, with a white collar and a light apron.\\n * Timestamp: 2:12\\n\\n- **The girl's father:** The girl's father is a wealthy man who is very protective of his daughter. He is a tall, thin man with a white beard and mustache. He wears a flannel shirt, a vest, and suspenders.\\n * Timestamp: 2:26\\n\\n- **The local sheik:** The local sheik is a rich and flamboyant man who is trying to woo the girl. He is a tall, handsome man with a mustache and a bowtie. He wears a suit.\\n * Timestamp: 3:45\\n\\nHope this helps! Let me know if you have more questions. \\n\""
            ],
            "application/vnd.google.colaboratory.intrinsic+json": {
              "type": "string"
            }
          },
          "metadata": {},
          "execution_count": 13
        }
      ]
    },
    {
      "cell_type": "code",
      "source": [],
      "metadata": {
        "id": "VurYR_T05zlZ"
      },
      "execution_count": null,
      "outputs": []
    },
    {
      "cell_type": "markdown",
      "source": [
        "# Text File"
      ],
      "metadata": {
        "id": "Su6Pj8-_7ff_"
      }
    },
    {
      "cell_type": "code",
      "source": [
        "text_file_name = \"/content/readme.txt\"\n",
        "text_file = genai.upload_file(path=text_file_name)"
      ],
      "metadata": {
        "id": "_Zsnrn_h7hjo"
      },
      "execution_count": null,
      "outputs": []
    },
    {
      "cell_type": "code",
      "source": [
        "while text_file.state.name == \"PROCESSING\":\n",
        "    print('Waiting for video to be processed.')\n",
        "    time.sleep(2)\n",
        "    text_file = genai.get_file(text_file.name)\n",
        "\n",
        "print(f'text processing complete: ' + text_file.uri)"
      ],
      "metadata": {
        "id": "nF2th1Ri7xbT",
        "outputId": "961ef90a-23a4-4e5d-811e-8cbec4cb3729",
        "colab": {
          "base_uri": "https://localhost:8080/"
        }
      },
      "execution_count": null,
      "outputs": [
        {
          "output_type": "stream",
          "name": "stdout",
          "text": [
            "text processing complete: https://generativelanguage.googleapis.com/v1beta/files/u7m43bxyk8ir\n"
          ]
        }
      ]
    },
    {
      "cell_type": "code",
      "source": [
        "cache = caching.CachedContent.create(\n",
        "    model=\"models/gemini-1.5-flash-001\",\n",
        "    display_name=\"readme file\", # used to identify the cache\n",
        "    system_instruction=\"You are an expert text file analyzer, and your job is to answer user's query based on the text file you have access to.\",\n",
        "    contents=[video_file],\n",
        "    ttl=datetime.timedelta(minutes=5),\n",
        ")"
      ],
      "metadata": {
        "id": "GSXF0C6c8BAc"
      },
      "execution_count": null,
      "outputs": []
    },
    {
      "cell_type": "code",
      "source": [
        "model = genai.GenerativeModel.from_cached_content(cached_content=cache)"
      ],
      "metadata": {
        "id": "1SCFJNe28LUq"
      },
      "execution_count": null,
      "outputs": []
    },
    {
      "cell_type": "code",
      "source": [
        "response = model.generate_content([\"can you please tell me the latest AI papers of the week?\"])\n",
        "\n",
        "print(response.text)"
      ],
      "metadata": {
        "id": "97igiv9f8NZx",
        "outputId": "def06a31-99c0-40fd-9f7d-451e7dd55d93",
        "colab": {
          "base_uri": "https://localhost:8080/",
          "height": 190
        }
      },
      "execution_count": null,
      "outputs": [
        {
          "output_type": "stream",
          "name": "stdout",
          "text": [
            "I do not have access to real-time information, including the latest AI papers. To stay up-to-date on the newest AI papers, I recommend checking these resources:\n",
            "\n",
            "* **arXiv:** [https://arxiv.org/](https://arxiv.org/) - A pre-print repository for scientific papers, with a dedicated section for AI research.\n",
            "* **Google Scholar:** [https://scholar.google.com/](https://scholar.google.com/) - A comprehensive search engine for academic papers, allowing you to filter by topic, publication date, and more.\n",
            "* **AI Conference Websites:** Keep an eye on websites for major AI conferences, such as NeurIPS, ICML, and ICLR, for accepted papers.\n",
            "* **AI News Websites:** Follow reputable AI news websites, like The AI Journal, VentureBeat, and TechCrunch, for summaries of new research.\n",
            "* **Research Gate:** [https://www.researchgate.net/](https://www.researchgate.net/) - A social networking site for scientists and researchers, where you can find and connect with other AI experts.\n",
            "\n",
            "These resources will provide you with the most up-to-date information on the latest AI papers.\n",
            "\n"
          ]
        }
      ]
    },
    {
      "cell_type": "code",
      "source": [],
      "metadata": {
        "id": "kUbPLZrA8aH-"
      },
      "execution_count": null,
      "outputs": []
    }
  ],
  "metadata": {
    "colab": {
      "provenance": []
    },
    "kernelspec": {
      "display_name": "Python 3",
      "name": "python3"
    }
  },
  "nbformat": 4,
  "nbformat_minor": 0
}